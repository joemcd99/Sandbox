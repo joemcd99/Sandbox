{
 "cells": [
  {
   "cell_type": "code",
   "execution_count": 51,
   "metadata": {},
   "outputs": [],
   "source": [
    "import random\n",
    "import pandas as pd\n",
    "import matplotlib.pyplot as plt\n",
    "import seaborn as sns\n",
    "from sklearn.cluster import KMeans\n",
    "from sklearn.preprocessing import StandardScaler, LabelEncoder"
   ]
  },
  {
   "cell_type": "code",
   "execution_count": 52,
   "metadata": {},
   "outputs": [],
   "source": [
    "def create_random_dataset(num_rows=5000):\n",
    "    \"\"\"\n",
    "    Creates a random dataset with specified columns.\n",
    "\n",
    "    Args:\n",
    "        num_rows: The number of rows in the dataset (default: 5000).\n",
    "\n",
    "    Returns:\n",
    "        A pandas DataFrame containing the random dataset.\n",
    "    \"\"\"\n",
    "\n",
    "    names = [\n",
    "        \"Alice\", \"Bob\", \"Charlie\", \"David\", \"Emily\", \"Frank\", \"Grace\", \"Henry\", \"Isabella\", \"Jack\",\n",
    "        \"Katherine\", \"Liam\", \"Mia\", \"Noah\", \"Olivia\", \"Peter\", \"Quinn\", \"Rachel\", \"Samuel\", \"Taylor\",\n",
    "        \"Ursula\", \"Victor\", \"Wendy\", \"Xavier\", \"Yasmine\", \"Zachary\",  # Add more names for variety\n",
    "        \"Sophia\", \"Jackson\", \"Ava\", \"Ethan\", \"Chloe\", \"Daniel\", \"Abigail\", \"Matthew\", \"Madison\", \"Alexander\",\n",
    "        \"Ella\", \"Michael\", \"Avery\", \"James\", \"Scarlett\", \"Benjamin\", \"Sofia\", \"Elijah\", \"Camila\", \"Logan\"\n",
    "    ]\n",
    "    \n",
    "    # More variety for jobs\n",
    "    jobs = [\n",
    "        \"Software Engineer\", \"Data Scientist\", \"Teacher\", \"Nurse\", \"Accountant\", \"Project Manager\",\n",
    "        \"Marketing Specialist\", \"Sales Representative\", \"Chef\", \"Electrician\", \"Mechanic\", \"Construction Worker\",\n",
    "        \"Doctor\", \"Lawyer\", \"Artist\", \"Musician\", \"Writer\", \"Journalist\", \"Web Developer\", \"Graphic Designer\",\n",
    "        \"Data Analyst\", \"Business Analyst\", \"Financial Analyst\", \"HR Manager\", \"Recruiter\", \"Customer Service Rep\",\n",
    "        \"Product Manager\", \"Operations Manager\", \"Research Scientist\", \"Pharmacist\", \"Physical Therapist\", \"Social Worker\"\n",
    "        , \"Librarian\", \"Architect\", \"Civil Engineer\", \"Mechanical Engineer\", \"Electrical Engineer\"\n",
    "    ]\n",
    "\n",
    "    provinces = [\n",
    "        \"Ontario\", \"Quebec\", \"British Columbia\", \"Alberta\", \"Manitoba\", \"Saskatchewan\",\n",
    "        \"Nova Scotia\", \"New Brunswick\", \"Newfoundland and Labrador\", \"Prince Edward Island\"\n",
    "    ]\n",
    "\n",
    "\n",
    "    data = []\n",
    "    for _ in range(num_rows):\n",
    "        name = random.choice(names) + \" \" + random.choice(names)  # Combine first and last names\n",
    "        age = random.randint(18, 65)  # Realistic age range\n",
    "        tenure = random.randint(0, min(age - 18, 30)) #Tenure cannot be longer than working life, limit to 30 for variety\n",
    "        job = random.choice(jobs)\n",
    "        province = random.choice(provinces)\n",
    "        rural_indicator = random.choice([\"Rural\", \"Urban\"])\n",
    "\n",
    "        data.append([name, age, tenure, job, province, rural_indicator])\n",
    "\n",
    "    df = pd.DataFrame(data, columns=[\"Name\", \"Age\", \"Tenure\", \"Job\", \"Province\", \"Rural_Indicator\"])\n",
    "    return df\n",
    "\n",
    "\n",
    "# --- Main program execution ---\n",
    "if __name__ == \"__main__\":\n",
    "    random_data = create_random_dataset()"
   ]
  },
  {
   "cell_type": "code",
   "execution_count": 53,
   "metadata": {},
   "outputs": [
    {
     "data": {
      "text/html": [
       "<div>\n",
       "<style scoped>\n",
       "    .dataframe tbody tr th:only-of-type {\n",
       "        vertical-align: middle;\n",
       "    }\n",
       "\n",
       "    .dataframe tbody tr th {\n",
       "        vertical-align: top;\n",
       "    }\n",
       "\n",
       "    .dataframe thead th {\n",
       "        text-align: right;\n",
       "    }\n",
       "</style>\n",
       "<table border=\"1\" class=\"dataframe\">\n",
       "  <thead>\n",
       "    <tr style=\"text-align: right;\">\n",
       "      <th></th>\n",
       "      <th>Name</th>\n",
       "      <th>Age</th>\n",
       "      <th>Tenure</th>\n",
       "      <th>Job</th>\n",
       "      <th>Province</th>\n",
       "      <th>Rural_Indicator</th>\n",
       "    </tr>\n",
       "  </thead>\n",
       "  <tbody>\n",
       "    <tr>\n",
       "      <th>0</th>\n",
       "      <td>Olivia Jack</td>\n",
       "      <td>30</td>\n",
       "      <td>1</td>\n",
       "      <td>Nurse</td>\n",
       "      <td>New Brunswick</td>\n",
       "      <td>Rural</td>\n",
       "    </tr>\n",
       "    <tr>\n",
       "      <th>1</th>\n",
       "      <td>Alexander Camila</td>\n",
       "      <td>26</td>\n",
       "      <td>8</td>\n",
       "      <td>Web Developer</td>\n",
       "      <td>Quebec</td>\n",
       "      <td>Urban</td>\n",
       "    </tr>\n",
       "    <tr>\n",
       "      <th>2</th>\n",
       "      <td>Madison Zachary</td>\n",
       "      <td>30</td>\n",
       "      <td>9</td>\n",
       "      <td>Artist</td>\n",
       "      <td>Quebec</td>\n",
       "      <td>Urban</td>\n",
       "    </tr>\n",
       "    <tr>\n",
       "      <th>3</th>\n",
       "      <td>Ethan Henry</td>\n",
       "      <td>51</td>\n",
       "      <td>29</td>\n",
       "      <td>Writer</td>\n",
       "      <td>Nova Scotia</td>\n",
       "      <td>Rural</td>\n",
       "    </tr>\n",
       "    <tr>\n",
       "      <th>4</th>\n",
       "      <td>Katherine Henry</td>\n",
       "      <td>63</td>\n",
       "      <td>14</td>\n",
       "      <td>Construction Worker</td>\n",
       "      <td>New Brunswick</td>\n",
       "      <td>Urban</td>\n",
       "    </tr>\n",
       "    <tr>\n",
       "      <th>...</th>\n",
       "      <td>...</td>\n",
       "      <td>...</td>\n",
       "      <td>...</td>\n",
       "      <td>...</td>\n",
       "      <td>...</td>\n",
       "      <td>...</td>\n",
       "    </tr>\n",
       "    <tr>\n",
       "      <th>4995</th>\n",
       "      <td>David Bob</td>\n",
       "      <td>35</td>\n",
       "      <td>10</td>\n",
       "      <td>Financial Analyst</td>\n",
       "      <td>Manitoba</td>\n",
       "      <td>Urban</td>\n",
       "    </tr>\n",
       "    <tr>\n",
       "      <th>4996</th>\n",
       "      <td>Charlie Abigail</td>\n",
       "      <td>63</td>\n",
       "      <td>8</td>\n",
       "      <td>Marketing Specialist</td>\n",
       "      <td>Quebec</td>\n",
       "      <td>Rural</td>\n",
       "    </tr>\n",
       "    <tr>\n",
       "      <th>4997</th>\n",
       "      <td>Xavier Chloe</td>\n",
       "      <td>56</td>\n",
       "      <td>23</td>\n",
       "      <td>Data Analyst</td>\n",
       "      <td>Newfoundland and Labrador</td>\n",
       "      <td>Urban</td>\n",
       "    </tr>\n",
       "    <tr>\n",
       "      <th>4998</th>\n",
       "      <td>Yasmine Scarlett</td>\n",
       "      <td>57</td>\n",
       "      <td>23</td>\n",
       "      <td>Musician</td>\n",
       "      <td>Alberta</td>\n",
       "      <td>Rural</td>\n",
       "    </tr>\n",
       "    <tr>\n",
       "      <th>4999</th>\n",
       "      <td>Ursula Abigail</td>\n",
       "      <td>26</td>\n",
       "      <td>1</td>\n",
       "      <td>Social Worker</td>\n",
       "      <td>Alberta</td>\n",
       "      <td>Rural</td>\n",
       "    </tr>\n",
       "  </tbody>\n",
       "</table>\n",
       "<p>5000 rows × 6 columns</p>\n",
       "</div>"
      ],
      "text/plain": [
       "                  Name  Age  Tenure                   Job  \\\n",
       "0          Olivia Jack   30       1                 Nurse   \n",
       "1     Alexander Camila   26       8         Web Developer   \n",
       "2      Madison Zachary   30       9                Artist   \n",
       "3          Ethan Henry   51      29                Writer   \n",
       "4      Katherine Henry   63      14   Construction Worker   \n",
       "...                ...  ...     ...                   ...   \n",
       "4995         David Bob   35      10     Financial Analyst   \n",
       "4996   Charlie Abigail   63       8  Marketing Specialist   \n",
       "4997      Xavier Chloe   56      23          Data Analyst   \n",
       "4998  Yasmine Scarlett   57      23              Musician   \n",
       "4999    Ursula Abigail   26       1         Social Worker   \n",
       "\n",
       "                       Province Rural_Indicator  \n",
       "0                 New Brunswick           Rural  \n",
       "1                        Quebec           Urban  \n",
       "2                        Quebec           Urban  \n",
       "3                   Nova Scotia           Rural  \n",
       "4                 New Brunswick           Urban  \n",
       "...                         ...             ...  \n",
       "4995                   Manitoba           Urban  \n",
       "4996                     Quebec           Rural  \n",
       "4997  Newfoundland and Labrador           Urban  \n",
       "4998                    Alberta           Rural  \n",
       "4999                    Alberta           Rural  \n",
       "\n",
       "[5000 rows x 6 columns]"
      ]
     },
     "execution_count": 53,
     "metadata": {},
     "output_type": "execute_result"
    }
   ],
   "source": [
    "random_data"
   ]
  },
  {
   "cell_type": "code",
   "execution_count": 54,
   "metadata": {},
   "outputs": [
    {
     "name": "stdout",
     "output_type": "stream",
     "text": [
      "\n",
      "Descriptive Statistics:\n",
      "               Age       Tenure\n",
      "count  5000.000000  5000.000000\n",
      "mean     41.481800    10.475200\n",
      "std      13.726272     8.628527\n",
      "min      18.000000     0.000000\n",
      "25%      30.000000     3.000000\n",
      "50%      42.000000     8.000000\n",
      "75%      53.000000    17.000000\n",
      "max      65.000000    30.000000\n"
     ]
    }
   ],
   "source": [
    "print(\"\\nDescriptive Statistics:\")\n",
    "print(random_data.describe())"
   ]
  },
  {
   "cell_type": "code",
   "execution_count": 6,
   "metadata": {},
   "outputs": [
    {
     "name": "stdout",
     "output_type": "stream",
     "text": [
      "             Name                 Job Province Rural_Indicator\n",
      "count        5000                5000     5000            5000\n",
      "unique       1921                  37       10               2\n",
      "top     Sofia Ava  Research Scientist  Ontario           Urban\n",
      "freq           10                 163      554            2529\n"
     ]
    }
   ],
   "source": [
    "print(random_data.describe(include='object'))"
   ]
  },
  {
   "cell_type": "code",
   "execution_count": 7,
   "metadata": {},
   "outputs": [
    {
     "name": "stdout",
     "output_type": "stream",
     "text": [
      "\n",
      "Value Counts for Age:\n",
      "Age\n",
      "40    132\n",
      "64    123\n",
      "51    122\n",
      "38    119\n",
      "32    119\n",
      "53    117\n",
      "28    116\n",
      "65    115\n",
      "31    112\n",
      "48    112\n",
      "58    111\n",
      "60    111\n",
      "42    110\n",
      "45    109\n",
      "56    109\n",
      "46    108\n",
      "47    108\n",
      "34    108\n",
      "52    107\n",
      "43    107\n",
      "20    107\n",
      "26    106\n",
      "49    106\n",
      "44    106\n",
      "22    105\n",
      "59    105\n",
      "35    103\n",
      "63    102\n",
      "30    101\n",
      "61    100\n",
      "41    100\n",
      "21     99\n",
      "33     98\n",
      "36     98\n",
      "55     97\n",
      "62     97\n",
      "24     97\n",
      "27     96\n",
      "18     96\n",
      "23     95\n",
      "57     95\n",
      "19     92\n",
      "39     92\n",
      "37     89\n",
      "25     87\n",
      "54     87\n",
      "50     85\n",
      "29     84\n",
      "Name: count, dtype: int64\n",
      "\n",
      "Value Counts for Province:\n",
      "Province\n",
      "Ontario                      554\n",
      "New Brunswick                516\n",
      "Nova Scotia                  505\n",
      "Prince Edward Island         505\n",
      "Quebec                       498\n",
      "Newfoundland and Labrador    494\n",
      "British Columbia             493\n",
      "Manitoba                     491\n",
      "Saskatchewan                 477\n",
      "Alberta                      467\n",
      "Name: count, dtype: int64\n"
     ]
    }
   ],
   "source": [
    "for col in ['Age', 'Province']:  # List your categorical columns\n",
    "    print(f\"\\nValue Counts for {col}:\")\n",
    "    print(random_data[col].value_counts())"
   ]
  },
  {
   "cell_type": "code",
   "execution_count": 56,
   "metadata": {},
   "outputs": [],
   "source": [
    "rd = random_data"
   ]
  },
  {
   "cell_type": "code",
   "execution_count": 58,
   "metadata": {},
   "outputs": [
    {
     "name": "stdout",
     "output_type": "stream",
     "text": [
      "               Age       Tenure\n",
      "count  5000.000000  5000.000000\n",
      "mean     41.481800    10.475200\n",
      "std      13.726272     8.628527\n",
      "min      18.000000     0.000000\n",
      "25%      30.000000     3.000000\n",
      "50%      42.000000     8.000000\n",
      "75%      53.000000    17.000000\n",
      "max      65.000000    30.000000\n"
     ]
    }
   ],
   "source": [
    "print(rd.describe())"
   ]
  },
  {
   "cell_type": "code",
   "execution_count": 9,
   "metadata": {},
   "outputs": [
    {
     "data": {
      "image/png": "[encoded data removed]",
      "text/plain": [
       "<Figure size 720x576 with 1 Axes>"
      ]
     },
     "metadata": {
      "needs_background": "light"
     },
     "output_type": "display_data"
    }
   ],
   "source": [
    "# --- Histograms (for numerical variables) ---\n",
    "plt.figure(figsize=(10, 8))  # Adjust figure size\n",
    "plt.hist(rd['Age'], bins=20, edgecolor='black')  # 'bins' controls the number of bars\n",
    "plt.xlabel('Age')\n",
    "plt.ylabel('Frequency')\n",
    "plt.title('Distribution of Age')\n",
    "plt.show()"
   ]
  },
  {
   "cell_type": "code",
   "execution_count": 10,
   "metadata": {},
   "outputs": [
    {
     "data": {
      "image/png": "[encoded data removed]",
      "text/plain": [
       "<Figure size 720x576 with 1 Axes>"
      ]
     },
     "metadata": {
      "needs_background": "light"
     },
     "output_type": "display_data"
    }
   ],
   "source": [
    "# --- Histograms (for numerical variables) ---\n",
    "plt.figure(figsize=(10, 8))  # Adjust figure size\n",
    "plt.hist(rd['Tenure'], bins=20, edgecolor='black')  # 'bins' controls the number of bars\n",
    "plt.xlabel('Tenure')\n",
    "plt.ylabel('Frequency')\n",
    "plt.title('Distribution of Tenure')\n",
    "plt.show()"
   ]
  },
  {
   "cell_type": "code",
   "execution_count": 11,
   "metadata": {},
   "outputs": [
    {
     "data": {
      "image/png": "[encoded data removed]",
      "text/plain": [
       "<Figure size 1440x576 with 1 Axes>"
      ]
     },
     "metadata": {
      "needs_background": "light"
     },
     "output_type": "display_data"
    }
   ],
   "source": [
    "# --- Bar Plots (for categorical variables) ---\n",
    "plt.figure(figsize=(20, 8))\n",
    "sns.countplot(x='Province', data=rd) # Using Seaborn for a cleaner plot\n",
    "plt.xlabel('Province')\n",
    "plt.ylabel('Count')\n",
    "plt.title('Distribution of Province')\n",
    "plt.show()"
   ]
  },
  {
   "cell_type": "code",
   "execution_count": 12,
   "metadata": {},
   "outputs": [
    {
     "data": {
      "image/png": "[encoded data removed]",
      "text/plain": [
       "<Figure size 1440x432 with 1 Axes>"
      ]
     },
     "metadata": {
      "needs_background": "light"
     },
     "output_type": "display_data"
    }
   ],
   "source": [
    "\n",
    "# --- Box Plots (for comparing distributions) ---\n",
    "plt.figure(figsize=(20, 6))\n",
    "sns.boxplot(x='Province', y='Age', data=rd)\n",
    "plt.xlabel('Province')\n",
    "plt.ylabel('Age')\n",
    "plt.title('Age Distribution by Province')\n",
    "plt.show()"
   ]
  },
  {
   "cell_type": "code",
   "execution_count": 13,
   "metadata": {},
   "outputs": [
    {
     "data": {
      "image/png": "[encoded data removed]",
      "text/plain": [
       "<Figure size 1440x576 with 1 Axes>"
      ]
     },
     "metadata": {
      "needs_background": "light"
     },
     "output_type": "display_data"
    }
   ],
   "source": [
    "# --- Scatter Plots (for relationships between numerical variables) ---\n",
    "plt.figure(figsize=(20, 8))\n",
    "sns.scatterplot(x='Age', y='Tenure', data=rd)\n",
    "plt.xlabel('Age')\n",
    "plt.ylabel('Tenure')\n",
    "plt.title('Relationship between Age and Tenure')\n",
    "plt.show()"
   ]
  },
  {
   "cell_type": "code",
   "execution_count": 14,
   "metadata": {},
   "outputs": [
    {
     "data": {
      "image/png": "[encoded data removed]",
      "text/plain": [
       "<Figure size 1440x576 with 2 Axes>"
      ]
     },
     "metadata": {
      "needs_background": "light"
     },
     "output_type": "display_data"
    }
   ],
   "source": [
    "# --- Heatmap (for correlation matrix) ---\n",
    "# Calculate the correlation matrix\n",
    "correlation_matrix = rd.corr(numeric_only = True) # Only include numeric\n",
    "\n",
    "# Create the heatmap\n",
    "plt.figure(figsize=(20, 8))\n",
    "sns.heatmap(correlation_matrix, annot=True, cmap='coolwarm', fmt=\".2f\")\n",
    "plt.title('Correlation Matrix')\n",
    "plt.show()"
   ]
  },
  {
   "cell_type": "code",
   "execution_count": 59,
   "metadata": {},
   "outputs": [
    {
     "name": "stdout",
     "output_type": "stream",
     "text": [
      "               Age       Tenure\n",
      "count  5000.000000  5000.000000\n",
      "mean     41.481800    10.475200\n",
      "std      13.726272     8.628527\n",
      "min      18.000000     0.000000\n",
      "25%      30.000000     3.000000\n",
      "50%      42.000000     8.000000\n",
      "75%      53.000000    17.000000\n",
      "max      65.000000    30.000000\n"
     ]
    }
   ],
   "source": [
    "df2 = rd\n",
    "print(df2.describe())"
   ]
  },
  {
   "cell_type": "code",
   "execution_count": 66,
   "metadata": {},
   "outputs": [
    {
     "data": {
      "text/html": [
       "<div>\n",
       "<style scoped>\n",
       "    .dataframe tbody tr th:only-of-type {\n",
       "        vertical-align: middle;\n",
       "    }\n",
       "\n",
       "    .dataframe tbody tr th {\n",
       "        vertical-align: top;\n",
       "    }\n",
       "\n",
       "    .dataframe thead th {\n",
       "        text-align: right;\n",
       "    }\n",
       "</style>\n",
       "<table border=\"1\" class=\"dataframe\">\n",
       "  <thead>\n",
       "    <tr style=\"text-align: right;\">\n",
       "      <th></th>\n",
       "      <th>Name</th>\n",
       "      <th>Age</th>\n",
       "      <th>Tenure</th>\n",
       "      <th>Job</th>\n",
       "      <th>Province</th>\n",
       "      <th>Rural_Indicator</th>\n",
       "    </tr>\n",
       "  </thead>\n",
       "  <tbody>\n",
       "    <tr>\n",
       "      <th>2001</th>\n",
       "      <td>Sofia Matthew</td>\n",
       "      <td>18</td>\n",
       "      <td>0</td>\n",
       "      <td>Lawyer</td>\n",
       "      <td>British Columbia</td>\n",
       "      <td>Urban</td>\n",
       "    </tr>\n",
       "    <tr>\n",
       "      <th>4172</th>\n",
       "      <td>Alexander Michael</td>\n",
       "      <td>18</td>\n",
       "      <td>0</td>\n",
       "      <td>Construction Worker</td>\n",
       "      <td>Saskatchewan</td>\n",
       "      <td>Rural</td>\n",
       "    </tr>\n",
       "    <tr>\n",
       "      <th>4148</th>\n",
       "      <td>Madison Michael</td>\n",
       "      <td>18</td>\n",
       "      <td>0</td>\n",
       "      <td>Marketing Specialist</td>\n",
       "      <td>Prince Edward Island</td>\n",
       "      <td>Rural</td>\n",
       "    </tr>\n",
       "    <tr>\n",
       "      <th>2154</th>\n",
       "      <td>Alexander Katherine</td>\n",
       "      <td>18</td>\n",
       "      <td>0</td>\n",
       "      <td>Lawyer</td>\n",
       "      <td>Saskatchewan</td>\n",
       "      <td>Rural</td>\n",
       "    </tr>\n",
       "    <tr>\n",
       "      <th>4141</th>\n",
       "      <td>Rachel Liam</td>\n",
       "      <td>18</td>\n",
       "      <td>0</td>\n",
       "      <td>Research Scientist</td>\n",
       "      <td>Manitoba</td>\n",
       "      <td>Urban</td>\n",
       "    </tr>\n",
       "    <tr>\n",
       "      <th>...</th>\n",
       "      <td>...</td>\n",
       "      <td>...</td>\n",
       "      <td>...</td>\n",
       "      <td>...</td>\n",
       "      <td>...</td>\n",
       "      <td>...</td>\n",
       "    </tr>\n",
       "    <tr>\n",
       "      <th>2765</th>\n",
       "      <td>Ella Avery</td>\n",
       "      <td>65</td>\n",
       "      <td>2</td>\n",
       "      <td>HR Manager</td>\n",
       "      <td>British Columbia</td>\n",
       "      <td>Rural</td>\n",
       "    </tr>\n",
       "    <tr>\n",
       "      <th>4366</th>\n",
       "      <td>Chloe Grace</td>\n",
       "      <td>65</td>\n",
       "      <td>7</td>\n",
       "      <td>Nurse</td>\n",
       "      <td>Manitoba</td>\n",
       "      <td>Rural</td>\n",
       "    </tr>\n",
       "    <tr>\n",
       "      <th>2074</th>\n",
       "      <td>Charlie Grace</td>\n",
       "      <td>65</td>\n",
       "      <td>1</td>\n",
       "      <td>Teacher</td>\n",
       "      <td>Newfoundland and Labrador</td>\n",
       "      <td>Rural</td>\n",
       "    </tr>\n",
       "    <tr>\n",
       "      <th>1178</th>\n",
       "      <td>James Avery</td>\n",
       "      <td>65</td>\n",
       "      <td>23</td>\n",
       "      <td>Financial Analyst</td>\n",
       "      <td>Manitoba</td>\n",
       "      <td>Urban</td>\n",
       "    </tr>\n",
       "    <tr>\n",
       "      <th>77</th>\n",
       "      <td>Benjamin Wendy</td>\n",
       "      <td>65</td>\n",
       "      <td>2</td>\n",
       "      <td>Accountant</td>\n",
       "      <td>Prince Edward Island</td>\n",
       "      <td>Urban</td>\n",
       "    </tr>\n",
       "  </tbody>\n",
       "</table>\n",
       "<p>5000 rows × 6 columns</p>\n",
       "</div>"
      ],
      "text/plain": [
       "                     Name  Age  Tenure                   Job  \\\n",
       "2001        Sofia Matthew   18       0                Lawyer   \n",
       "4172    Alexander Michael   18       0   Construction Worker   \n",
       "4148      Madison Michael   18       0  Marketing Specialist   \n",
       "2154  Alexander Katherine   18       0                Lawyer   \n",
       "4141          Rachel Liam   18       0    Research Scientist   \n",
       "...                   ...  ...     ...                   ...   \n",
       "2765           Ella Avery   65       2            HR Manager   \n",
       "4366          Chloe Grace   65       7                 Nurse   \n",
       "2074        Charlie Grace   65       1               Teacher   \n",
       "1178          James Avery   65      23     Financial Analyst   \n",
       "77         Benjamin Wendy   65       2            Accountant   \n",
       "\n",
       "                       Province Rural_Indicator  \n",
       "2001           British Columbia           Urban  \n",
       "4172               Saskatchewan           Rural  \n",
       "4148       Prince Edward Island           Rural  \n",
       "2154               Saskatchewan           Rural  \n",
       "4141                   Manitoba           Urban  \n",
       "...                         ...             ...  \n",
       "2765           British Columbia           Rural  \n",
       "4366                   Manitoba           Rural  \n",
       "2074  Newfoundland and Labrador           Rural  \n",
       "1178                   Manitoba           Urban  \n",
       "77         Prince Edward Island           Urban  \n",
       "\n",
       "[5000 rows x 6 columns]"
      ]
     },
     "execution_count": 66,
     "metadata": {},
     "output_type": "execute_result"
    }
   ],
   "source": [
    "df2_sorted = df2.sort_values(by='Age')\n",
    "df2_sorted"
   ]
  },
  {
   "cell_type": "code",
   "execution_count": 73,
   "metadata": {},
   "outputs": [
    {
     "data": {
      "text/html": [
       "<div>\n",
       "<style scoped>\n",
       "    .dataframe tbody tr th:only-of-type {\n",
       "        vertical-align: middle;\n",
       "    }\n",
       "\n",
       "    .dataframe tbody tr th {\n",
       "        vertical-align: top;\n",
       "    }\n",
       "\n",
       "    .dataframe thead th {\n",
       "        text-align: right;\n",
       "    }\n",
       "</style>\n",
       "<table border=\"1\" class=\"dataframe\">\n",
       "  <thead>\n",
       "    <tr style=\"text-align: right;\">\n",
       "      <th></th>\n",
       "      <th>Age</th>\n",
       "      <th>Tenure</th>\n",
       "    </tr>\n",
       "  </thead>\n",
       "  <tbody>\n",
       "    <tr>\n",
       "      <th>0</th>\n",
       "      <td>30</td>\n",
       "      <td>1</td>\n",
       "    </tr>\n",
       "    <tr>\n",
       "      <th>1</th>\n",
       "      <td>26</td>\n",
       "      <td>8</td>\n",
       "    </tr>\n",
       "    <tr>\n",
       "      <th>2</th>\n",
       "      <td>30</td>\n",
       "      <td>9</td>\n",
       "    </tr>\n",
       "    <tr>\n",
       "      <th>3</th>\n",
       "      <td>51</td>\n",
       "      <td>29</td>\n",
       "    </tr>\n",
       "    <tr>\n",
       "      <th>4</th>\n",
       "      <td>63</td>\n",
       "      <td>14</td>\n",
       "    </tr>\n",
       "    <tr>\n",
       "      <th>...</th>\n",
       "      <td>...</td>\n",
       "      <td>...</td>\n",
       "    </tr>\n",
       "    <tr>\n",
       "      <th>4995</th>\n",
       "      <td>35</td>\n",
       "      <td>10</td>\n",
       "    </tr>\n",
       "    <tr>\n",
       "      <th>4996</th>\n",
       "      <td>63</td>\n",
       "      <td>8</td>\n",
       "    </tr>\n",
       "    <tr>\n",
       "      <th>4997</th>\n",
       "      <td>56</td>\n",
       "      <td>23</td>\n",
       "    </tr>\n",
       "    <tr>\n",
       "      <th>4998</th>\n",
       "      <td>57</td>\n",
       "      <td>23</td>\n",
       "    </tr>\n",
       "    <tr>\n",
       "      <th>4999</th>\n",
       "      <td>26</td>\n",
       "      <td>1</td>\n",
       "    </tr>\n",
       "  </tbody>\n",
       "</table>\n",
       "<p>5000 rows × 2 columns</p>\n",
       "</div>"
      ],
      "text/plain": [
       "      Age  Tenure\n",
       "0      30       1\n",
       "1      26       8\n",
       "2      30       9\n",
       "3      51      29\n",
       "4      63      14\n",
       "...   ...     ...\n",
       "4995   35      10\n",
       "4996   63       8\n",
       "4997   56      23\n",
       "4998   57      23\n",
       "4999   26       1\n",
       "\n",
       "[5000 rows x 2 columns]"
      ]
     },
     "execution_count": 73,
     "metadata": {},
     "output_type": "execute_result"
    }
   ],
   "source": [
    "columns_to_remove = ['Name', 'Job', 'Province', 'Rural_Indicator']\n",
    "df3 = df2.drop(columns = columns_to_remove, errors='ignore')\n",
    "df3"
   ]
  },
  {
   "cell_type": "code",
   "execution_count": 70,
   "metadata": {},
   "outputs": [],
   "source": [
    "def cluster_data_kmeans(df3, n_clusters=10):\n",
    "            \n",
    "    #Scale Numerical Features\n",
    "    numerical_cols = ['Age', 'Tenure']\n",
    "    scaler = StandardScaler()\n",
    "    df3[numerical_cols] = scaler.fit_transform(df3[numerical_cols])\n",
    "    \n",
    "    kmeans = KMeans(n_clusters=n_clusters, random_state=42, n_init=10)  # Initialize KMeans\n",
    "    df3['cluster'] = kmeans.fit_predict(df3)  # Fit and predict clusters\n",
    "    \n",
    "    return df3"
   ]
  },
  {
   "cell_type": "code",
   "execution_count": 71,
   "metadata": {},
   "outputs": [],
   "source": [
    "clustered_data = cluster_data_kmeans(df3.copy(), n_clusters=10)"
   ]
  },
  {
   "cell_type": "code",
   "execution_count": 64,
   "metadata": {},
   "outputs": [
    {
     "data": {
      "text/html": [
       "<div>\n",
       "<style scoped>\n",
       "    .dataframe tbody tr th:only-of-type {\n",
       "        vertical-align: middle;\n",
       "    }\n",
       "\n",
       "    .dataframe tbody tr th {\n",
       "        vertical-align: top;\n",
       "    }\n",
       "\n",
       "    .dataframe thead th {\n",
       "        text-align: right;\n",
       "    }\n",
       "</style>\n",
       "<table border=\"1\" class=\"dataframe\">\n",
       "  <thead>\n",
       "    <tr style=\"text-align: right;\">\n",
       "      <th></th>\n",
       "      <th>Age</th>\n",
       "      <th>Tenure</th>\n",
       "      <th>cluster</th>\n",
       "    </tr>\n",
       "  </thead>\n",
       "  <tbody>\n",
       "    <tr>\n",
       "      <th>0</th>\n",
       "      <td>-0.836567</td>\n",
       "      <td>-1.098235</td>\n",
       "      <td>0</td>\n",
       "    </tr>\n",
       "    <tr>\n",
       "      <th>4188</th>\n",
       "      <td>-1.273729</td>\n",
       "      <td>-0.634610</td>\n",
       "      <td>0</td>\n",
       "    </tr>\n",
       "    <tr>\n",
       "      <th>4189</th>\n",
       "      <td>-0.982288</td>\n",
       "      <td>-0.750516</td>\n",
       "      <td>0</td>\n",
       "    </tr>\n",
       "    <tr>\n",
       "      <th>570</th>\n",
       "      <td>-0.763707</td>\n",
       "      <td>-0.634610</td>\n",
       "      <td>0</td>\n",
       "    </tr>\n",
       "    <tr>\n",
       "      <th>2119</th>\n",
       "      <td>-1.055148</td>\n",
       "      <td>-1.098235</td>\n",
       "      <td>0</td>\n",
       "    </tr>\n",
       "    <tr>\n",
       "      <th>...</th>\n",
       "      <td>...</td>\n",
       "      <td>...</td>\n",
       "      <td>...</td>\n",
       "    </tr>\n",
       "    <tr>\n",
       "      <th>1089</th>\n",
       "      <td>0.183477</td>\n",
       "      <td>-0.750516</td>\n",
       "      <td>9</td>\n",
       "    </tr>\n",
       "    <tr>\n",
       "      <th>4043</th>\n",
       "      <td>0.256337</td>\n",
       "      <td>-0.634610</td>\n",
       "      <td>9</td>\n",
       "    </tr>\n",
       "    <tr>\n",
       "      <th>1083</th>\n",
       "      <td>0.402058</td>\n",
       "      <td>-0.982328</td>\n",
       "      <td>9</td>\n",
       "    </tr>\n",
       "    <tr>\n",
       "      <th>4017</th>\n",
       "      <td>-0.253685</td>\n",
       "      <td>-0.634610</td>\n",
       "      <td>9</td>\n",
       "    </tr>\n",
       "    <tr>\n",
       "      <th>2499</th>\n",
       "      <td>-0.472266</td>\n",
       "      <td>-0.982328</td>\n",
       "      <td>9</td>\n",
       "    </tr>\n",
       "  </tbody>\n",
       "</table>\n",
       "<p>5000 rows × 3 columns</p>\n",
       "</div>"
      ],
      "text/plain": [
       "           Age    Tenure  cluster\n",
       "0    -0.836567 -1.098235        0\n",
       "4188 -1.273729 -0.634610        0\n",
       "4189 -0.982288 -0.750516        0\n",
       "570  -0.763707 -0.634610        0\n",
       "2119 -1.055148 -1.098235        0\n",
       "...        ...       ...      ...\n",
       "1089  0.183477 -0.750516        9\n",
       "4043  0.256337 -0.634610        9\n",
       "1083  0.402058 -0.982328        9\n",
       "4017 -0.253685 -0.634610        9\n",
       "2499 -0.472266 -0.982328        9\n",
       "\n",
       "[5000 rows x 3 columns]"
      ]
     },
     "execution_count": 64,
     "metadata": {},
     "output_type": "execute_result"
    }
   ],
   "source": [
    "df_sorted = clustered_data.sort_values(by='cluster')\n",
    "df_sorted"
   ]
  },
  {
   "cell_type": "code",
   "execution_count": 74,
   "metadata": {},
   "outputs": [],
   "source": [
    "def cluster_data_kmeans(df3, n_clusters=10):\n",
    "                \n",
    "    kmeans = KMeans(n_clusters=n_clusters, random_state=42, n_init=10)  # Initialize KMeans\n",
    "    df3['cluster'] = kmeans.fit_predict(df3)  # Fit and predict clusters\n",
    "    \n",
    "    return df3"
   ]
  },
  {
   "cell_type": "code",
   "execution_count": 75,
   "metadata": {},
   "outputs": [],
   "source": [
    "clustered_data2 = cluster_data_kmeans(df3.copy(), n_clusters=10)"
   ]
  },
  {
   "cell_type": "code",
   "execution_count": 76,
   "metadata": {},
   "outputs": [
    {
     "data": {
      "text/html": [
       "<div>\n",
       "<style scoped>\n",
       "    .dataframe tbody tr th:only-of-type {\n",
       "        vertical-align: middle;\n",
       "    }\n",
       "\n",
       "    .dataframe tbody tr th {\n",
       "        vertical-align: top;\n",
       "    }\n",
       "\n",
       "    .dataframe thead th {\n",
       "        text-align: right;\n",
       "    }\n",
       "</style>\n",
       "<table border=\"1\" class=\"dataframe\">\n",
       "  <thead>\n",
       "    <tr style=\"text-align: right;\">\n",
       "      <th></th>\n",
       "      <th>Age</th>\n",
       "      <th>Tenure</th>\n",
       "      <th>cluster</th>\n",
       "    </tr>\n",
       "  </thead>\n",
       "  <tbody>\n",
       "    <tr>\n",
       "      <th>2990</th>\n",
       "      <td>42</td>\n",
       "      <td>18</td>\n",
       "      <td>0</td>\n",
       "    </tr>\n",
       "    <tr>\n",
       "      <th>1832</th>\n",
       "      <td>38</td>\n",
       "      <td>18</td>\n",
       "      <td>0</td>\n",
       "    </tr>\n",
       "    <tr>\n",
       "      <th>1839</th>\n",
       "      <td>41</td>\n",
       "      <td>21</td>\n",
       "      <td>0</td>\n",
       "    </tr>\n",
       "    <tr>\n",
       "      <th>3398</th>\n",
       "      <td>46</td>\n",
       "      <td>18</td>\n",
       "      <td>0</td>\n",
       "    </tr>\n",
       "    <tr>\n",
       "      <th>1846</th>\n",
       "      <td>40</td>\n",
       "      <td>20</td>\n",
       "      <td>0</td>\n",
       "    </tr>\n",
       "    <tr>\n",
       "      <th>...</th>\n",
       "      <td>...</td>\n",
       "      <td>...</td>\n",
       "      <td>...</td>\n",
       "    </tr>\n",
       "    <tr>\n",
       "      <th>1362</th>\n",
       "      <td>35</td>\n",
       "      <td>0</td>\n",
       "      <td>9</td>\n",
       "    </tr>\n",
       "    <tr>\n",
       "      <th>171</th>\n",
       "      <td>38</td>\n",
       "      <td>7</td>\n",
       "      <td>9</td>\n",
       "    </tr>\n",
       "    <tr>\n",
       "      <th>2979</th>\n",
       "      <td>37</td>\n",
       "      <td>3</td>\n",
       "      <td>9</td>\n",
       "    </tr>\n",
       "    <tr>\n",
       "      <th>4311</th>\n",
       "      <td>38</td>\n",
       "      <td>3</td>\n",
       "      <td>9</td>\n",
       "    </tr>\n",
       "    <tr>\n",
       "      <th>2499</th>\n",
       "      <td>35</td>\n",
       "      <td>2</td>\n",
       "      <td>9</td>\n",
       "    </tr>\n",
       "  </tbody>\n",
       "</table>\n",
       "<p>5000 rows × 3 columns</p>\n",
       "</div>"
      ],
      "text/plain": [
       "      Age  Tenure  cluster\n",
       "2990   42      18        0\n",
       "1832   38      18        0\n",
       "1839   41      21        0\n",
       "3398   46      18        0\n",
       "1846   40      20        0\n",
       "...   ...     ...      ...\n",
       "1362   35       0        9\n",
       "171    38       7        9\n",
       "2979   37       3        9\n",
       "4311   38       3        9\n",
       "2499   35       2        9\n",
       "\n",
       "[5000 rows x 3 columns]"
      ]
     },
     "execution_count": 76,
     "metadata": {},
     "output_type": "execute_result"
    }
   ],
   "source": [
    "df_sorted2 = clustered_data2.sort_values(by='cluster')\n",
    "df_sorted2"
   ]
  },
  {
   "cell_type": "code",
   "execution_count": 86,
   "metadata": {},
   "outputs": [
    {
     "name": "stderr",
     "output_type": "stream",
     "text": [
      "<ipython-input-86-8b7e4eb31704>:1: UserWarning: Pandas requires version '1.4.3' or newer of 'xlsxwriter' (version '1.3.7' currently installed).\n",
      "  df_sorted2.to_excel(\"~/Documents/kmeans.xlsx\", index=False)\n"
     ]
    }
   ],
   "source": [
    "df_sorted2.to_excel(\"~/Documents/kmeans.xlsx\", index=False)"
   ]
  },
  {
   "cell_type": "code",
   "execution_count": 84,
   "metadata": {},
   "outputs": [
    {
     "name": "stdout",
     "output_type": "stream",
     "text": [
      "Collecting xlsxwriter\n",
      "  Downloading XlsxWriter-3.2.2-py3-none-any.whl (165 kB)\n",
      "\u001b[K     |████████████████████████████████| 165 kB 10.8 MB/s eta 0:00:01\n",
      "\u001b[?25hInstalling collected packages: xlsxwriter\n",
      "  Attempting uninstall: xlsxwriter\n",
      "    Found existing installation: XlsxWriter 1.3.7\n",
      "    Uninstalling XlsxWriter-1.3.7:\n",
      "      Successfully uninstalled XlsxWriter-1.3.7\n",
      "Successfully installed xlsxwriter-3.2.2\n",
      "Note: you may need to restart the kernel to use updated packages.\n"
     ]
    }
   ],
   "source": [
    "pip install --upgrade xlsxwriter\n"
   ]
  },
  {
   "cell_type": "code",
   "execution_count": null,
   "metadata": {},
   "outputs": [],
   "source": []
  }
 ],
 "metadata": {
  "kernelspec": {
   "display_name": "Python 3",
   "language": "python",
   "name": "python3"
  },
  "language_info": {
   "codemirror_mode": {
    "name": "ipython",
    "version": 3
   },
   "file_extension": ".py",
   "mimetype": "text/x-python",
   "name": "python",
   "nbconvert_exporter": "python",
   "pygments_lexer": "ipython3",
   "version": "3.8.5"
  }
 },
 "nbformat": 4,
 "nbformat_minor": 4
}
